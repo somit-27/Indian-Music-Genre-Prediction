{
 "cells": [
  {
   "cell_type": "code",
   "execution_count": 1,
   "metadata": {},
   "outputs": [],
   "source": [
    "import pandas as pd"
   ]
  },
  {
   "cell_type": "markdown",
   "metadata": {},
   "source": [
    "# **READING INDIVIDUAL FEATURE FILES AND ADDING CLASS LABELS**"
   ]
  },
  {
   "cell_type": "code",
   "execution_count": 8,
   "metadata": {},
   "outputs": [],
   "source": [
    "Bolly_rap = pd.read_csv(\"./Features/Bolly_Rap_Features.csv\")\n",
    "Bolly_rap['labels'] = pd.Series([0 for x in range(len(Bolly_rap.index))], index=Bolly_rap.index)\n",
    "Bolly_rap.shape\n",
    "\n",
    "Ghazal = pd.read_csv(\"./Features/Ghazal_Features.csv\")\n",
    "Ghazal['labels'] = pd.Series([1 for x in range(len(Ghazal.index))], index=Ghazal.index)\n",
    "Ghazal.shape\n",
    "\n",
    "Garhwali = pd.read_csv(\"./Features/Garhwali_featres.csv\")\n",
    "Garhwali['labels'] = pd.Series([2 for x in range(len(Garhwali.index))], index=Garhwali.index)\n",
    "Garhwali.shape\n",
    "\n",
    "bhajan = pd.read_csv(\"./Features/bhajan_featres.csv\")\n",
    "bhajan['labels'] = pd.Series([3 for x in range(len(bhajan.index))], index=bhajan.index)\n",
    "bhajan.shape\n",
    "\n",
    "bolly_roman = pd.read_csv(\"./Features/bollywood_romantic.csv\")\n",
    "bolly_roman['labels'] = pd.Series([4 for x in range(len(bolly_roman.index))], index=bolly_roman.index)\n",
    "bolly_roman.shape\n",
    "\n",
    "sufi = pd.read_csv(\"./Features/sufi_featres.csv\")\n",
    "sufi['labels'] = pd.Series([5 for x in range(len(sufi.index))], index=sufi.index)\n",
    "sufi.shape\n",
    "\n",
    "\n",
    "bhojpuri = pd.read_csv(\"./Features/bhojpuri_featres.csv\")\n",
    "bhojpuri['labels'] = pd.Series([6 for x in range(len(bhojpuri.index))], index=bhojpuri.index)"
   ]
  },
  {
   "cell_type": "code",
   "execution_count": 9,
   "metadata": {},
   "outputs": [
    {
     "data": {
      "text/plain": [
       "(100, 14)"
      ]
     },
     "execution_count": 9,
     "metadata": {},
     "output_type": "execute_result"
    }
   ],
   "source": [
    "Bolly_rap.shape"
   ]
  },
  {
   "cell_type": "code",
   "execution_count": 10,
   "metadata": {},
   "outputs": [],
   "source": [
    "frame = pd.concat([Bolly_rap, Ghazal, Garhwali, bhajan, bolly_roman, sufi, bhojpuri], ignore_index=True)"
   ]
  },
  {
   "cell_type": "markdown",
   "metadata": {},
   "source": [
    "# **CREATING FINAL DATASET WITH ALL FEATURES**"
   ]
  },
  {
   "cell_type": "code",
   "execution_count": 11,
   "metadata": {},
   "outputs": [],
   "source": [
    "final = frame.drop(\"Unnamed: 0\", axis=1)\n",
    "final.head(600)\n",
    "final.shape\n",
    "final.to_csv(\"./Features/all_features.csv\")"
   ]
  }
 ],
 "metadata": {
  "kernelspec": {
   "display_name": "Python 3.10.6 64-bit",
   "language": "python",
   "name": "python3"
  },
  "language_info": {
   "codemirror_mode": {
    "name": "ipython",
    "version": 3
   },
   "file_extension": ".py",
   "mimetype": "text/x-python",
   "name": "python",
   "nbconvert_exporter": "python",
   "pygments_lexer": "ipython3",
   "version": "3.10.6"
  },
  "orig_nbformat": 4,
  "vscode": {
   "interpreter": {
    "hash": "916dbcbb3f70747c44a77c7bcd40155683ae19c65e1c03b4aa3499c5328201f1"
   }
  }
 },
 "nbformat": 4,
 "nbformat_minor": 2
}
